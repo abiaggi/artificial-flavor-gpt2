{
 "cells": [
  {
   "cell_type": "markdown",
   "metadata": {},
   "source": [
    "Downloading MTG JSon Files"
   ]
  },
  {
   "cell_type": "code",
   "execution_count": 45,
   "metadata": {},
   "outputs": [],
   "source": [
    "import os\n",
    "import sys\n",
    "import requests\n",
    "from tqdm import tqdm\n",
    "\n",
    "path = \"json\"\n",
    "file_name = \"cards.json\"\n",
    "\n",
    "if not os.path.exists(path):\n",
    "    os.makedirs(path)\n",
    "    \n",
    "#url = \"https://mtgjson.com/api/v5/AtomicCards.json\"\n",
    "url = \"https://mtgjson.com/api/v5/AllPrintings.json\"\n",
    "# url = \"https://mtgjson.com/api/v5/STA.json\"\n",
    "r = requests.get(url, stream=True)\n",
    "with open(os.path.join(path, file_name), 'wb') as f:\n",
    "    f.write(r.content)"
   ]
  },
  {
   "cell_type": "markdown",
   "metadata": {},
   "source": [
    "Reading"
   ]
  },
  {
   "cell_type": "code",
   "execution_count": 47,
   "metadata": {},
   "outputs": [
    {
     "name": "stdout",
     "output_type": "stream",
     "text": [
      "dict_keys(['10E', '2ED', '2XM', '3ED', '4BB', '4ED', '5DN', '5ED', '6ED', '7ED', '8ED', '9ED', 'A25', 'AER', 'AJMP', 'AKH', 'AKR', 'ALA', 'ALL', 'AMH1', 'ANA', 'ANB', 'APC', 'ARB', 'ARC', 'ARN', 'ATH', 'ATQ', 'AVR', 'AZNR', 'BBD', 'BFZ', 'BNG', 'BOK', 'BRB', 'BTD', 'C13', 'C14', 'C15', 'C16', 'C17', 'C18', 'C19', 'C20', 'CC1', 'CED', 'CEI', 'CHK', 'CHR', 'CM1', 'CM2', 'CMA', 'CMB1', 'CMD', 'CMR', 'CN2', 'CNS', 'CON', 'CP1', 'CP2', 'CP3', 'CSP', 'CST', 'DD1', 'DD2', 'DDC', 'DDD', 'DDE', 'DDF', 'DDG', 'DDH', 'DDI', 'DDJ', 'DDK', 'DDL', 'DDM', 'DDN', 'DDO', 'DDP', 'DDQ', 'DDR', 'DDS', 'DDT', 'DDU', 'DGM', 'DIS', 'DKA', 'DKM', 'DOM', 'DPA', 'DRB', 'DRK', 'DST', 'DTK', 'DVD', 'E01', 'E02', 'ELD', 'EMA', 'EMN', 'EVE', 'EVG', 'EXO', 'EXP', 'F01', 'F02', 'F03', 'F04', 'F05', 'F06', 'F07', 'F08', 'F09', 'F10', 'F11', 'F12', 'F13', 'F14', 'F15', 'F16', 'F17', 'F18', 'FBB', 'FEM', 'FJMP', 'FMB1', 'FNM', 'FRF', 'FUT', 'G00', 'G01', 'G02', 'G03', 'G04', 'G05', 'G06', 'G07', 'G08', 'G09', 'G10', 'G11', 'G17', 'G18', 'G99', 'GK1', 'GK2', 'GN2', 'GNT', 'GPT', 'GRN', 'GS1', 'GTC', 'GVL', 'H09', 'H17', 'HA1', 'HA2', 'HA3', 'HA4', 'HHO', 'HML', 'HOP', 'HOU', 'HTR', 'HTR17', 'HTR18', 'ICE', 'IKO', 'IMA', 'INV', 'ISD', 'ITP', 'J12', 'J13', 'J14', 'J15', 'J16', 'J17', 'J18', 'J19', 'J20', 'J21', 'JGP', 'JMP', 'JOU', 'JUD', 'JVC', 'KHC', 'KHM', 'KLD', 'KLR', 'KTK', 'L12', 'L13', 'L14', 'L15', 'L16', 'L17', 'LEA', 'LEB', 'LEG', 'LGN', 'LRW', 'M10', 'M11', 'M12', 'M13', 'M14', 'M15', 'M19', 'M20', 'M21', 'MB1', 'MBS', 'MD1', 'ME1', 'ME2', 'ME3', 'ME4', 'MED', 'MGB', 'MH1', 'MIR', 'MM2', 'MM3', 'MMA', 'MMQ', 'MOR', 'MP2', 'MPR', 'MPS', 'MRD', 'MZNR', 'NEM', 'NPH', 'OANA', 'OARC', 'OC13', 'OC14', 'OC15', 'OC16', 'OC17', 'OC18', 'OC19', 'OC20', 'OCM1', 'OCMD', 'ODY', 'OE01', 'OGW', 'OHOP', 'OLGC', 'ONS', 'OPC2', 'OPCA', 'ORI', 'OVNT', 'P02', 'P03', 'P04', 'P05', 'P06', 'P07', 'P08', 'P09', 'P10', 'P10E', 'P11', 'P15A', 'P2HG', 'P5DN', 'P8ED', 'P9ED', 'PAER', 'PAKH', 'PAL00', 'PAL01', 'PAL02', 'PAL03', 'PAL04', 'PAL05', 'PAL06', 'PAL99', 'PALA', 'PALP', 'PANA', 'PAPC', 'PARB', 'PARC', 'PARL', 'PAST', 'PAVR', 'PBBD', 'PBFZ', 'PBNG', 'PBOK', 'PBOOK', 'PC2', 'PCA', 'PCEL', 'PCHK', 'PCMD', 'PCMP', 'PCNS', 'PCON', 'PCSP', 'PCY', 'PD2', 'PD3', 'PDGM', 'PDIS', 'PDKA', 'PDOM', 'PDP10', 'PDP12', 'PDP13', 'PDP14', 'PDP15', 'PDRC', 'PDST', 'PDTK', 'PDTP', 'PELD', 'PELP', 'PEMN', 'PEVE', 'PEXO', 'PF19', 'PF20', 'PFRF', 'PFUT', 'PG07', 'PG08', 'PGPT', 'PGPX', 'PGRN', 'PGRU', 'PGTC', 'PGTW', 'PHEL', 'PHJ', 'PHOP', 'PHOU', 'PHPR', 'PHUK', 'PI13', 'PI14', 'PIDW', 'PIKO', 'PINV', 'PISD', 'PJAS', 'PJJT', 'PJOU', 'PJSE', 'PJUD', 'PKHC', 'PKHM', 'PKLD', 'PKTK', 'PL21', 'PLC', 'PLGM', 'PLGN', 'PLGS', 'PLIST', 'PLNY', 'PLRW', 'PLS', 'PM10', 'PM11', 'PM12', 'PM13', 'PM14', 'PM15', 'PM19', 'PM20', 'PM21', 'PMBS', 'PMEI', 'PMH1', 'PMIC', 'PMMQ', 'PMOA', 'PMOR', 'PMPS', 'PMPS06', 'PMPS07', 'PMPS08', 'PMPS09', 'PMPS10', 'PMPS11', 'PMRD', 'PNAT', 'PNEM', 'PNPH', 'PODY', 'POGW', 'PONS', 'POR', 'PORI', 'PPC1', 'PPCY', 'PPLC', 'PPLS', 'PPOD', 'PPP1', 'PPRO', 'PPTK', 'PR2', 'PRAV', 'PRED', 'PRES', 'PRIX', 'PRM', 'PRNA', 'PROE', 'PRTR', 'PRW2', 'PRWK', 'PS11', 'PS14', 'PS15', 'PS16', 'PS17', 'PS18', 'PS19', 'PSAL', 'PSCG', 'PSDC', 'PSDG', 'PSHM', 'PSOI', 'PSOK', 'PSOM', 'PSS1', 'PSS2', 'PSS3', 'PSTH', 'PSUM', 'PSUS', 'PTC', 'PTG', 'PTHB', 'PTHS', 'PTK', 'PTKDF', 'PTMP', 'PTOR', 'PTSP', 'PUDS', 'PULG', 'PUMA', 'PUNH', 'PURL', 'PUSG', 'PUST', 'PVAN', 'PWAR', 'PWCQ', 'PWOR', 'PWOS', 'PWP09', 'PWP10', 'PWP11', 'PWP12', 'PWPN', 'PWWK', 'PXLN', 'PXTC', 'PZ1', 'PZ2', 'PZEN', 'PZNR', 'RAV', 'REN', 'RIN', 'RIX', 'RNA', 'ROE', 'RQS', 'RTR', 'S00', 'S99', 'SCG', 'SHM', 'SLD', 'SLU', 'SOI', 'SOK', 'SOM', 'SS1', 'SS2', 'SS3', 'STA', 'STH', 'STX', 'SUM', 'SZNR', 'TBTH', 'TD0', 'TD2', 'TDAG', 'TFTH', 'THB', 'THP1', 'THP2', 'THP3', 'THS', 'TMP', 'TOR', 'TPR', 'TSB', 'TSP', 'TSR', 'UDS', 'UGIN', 'UGL', 'ULG', 'UMA', 'UND', 'UNH', 'USG', 'UST', 'V09', 'V10', 'V11', 'V12', 'V13', 'V14', 'V15', 'V16', 'V17', 'VIS', 'VMA', 'W16', 'W17', 'WAR', 'WC00', 'WC01', 'WC02', 'WC03', 'WC04', 'WC97', 'WC98', 'WC99', 'WTH', 'WWK', 'XANA', 'XLN', 'ZEN', 'ZNC', 'ZNE', 'ZNR'])\n"
     ]
    }
   ],
   "source": [
    "import json\n",
    "with open(os.path.join(path, file_name), encoding='utf-8') as f:\n",
    "    all_cards = json.load(f)\n",
    "\n",
    "flavorTexts = {}\n",
    "\n",
    "for set_exp in all_cards['data']:\n",
    "    set_cards = all_cards['data'][set_exp]['cards'];\n",
    "    for card in set_cards:\n",
    "        if('flavorText' in card):\n",
    "            flavorTexts[card['name']] = card['flavorText']\n",
    " \n"
   ]
  },
  {
   "cell_type": "markdown",
   "metadata": {},
   "source": [
    "Writing flavor texts to out/flavor.txt"
   ]
  },
  {
   "cell_type": "code",
   "execution_count": 55,
   "metadata": {},
   "outputs": [],
   "source": [
    "if not os.path.exists('out'):\n",
    "    os.makedirs('out')\n",
    "with open(os.path.join('out', 'flavor.txt'), 'w', encoding='utf-8') as f:\n",
    "    for card_name in flavorTexts:\n",
    "        f.write(' '.join(flavorTexts[card_name].split()) + '\\n')"
   ]
  },
  {
   "cell_type": "code",
   "execution_count": null,
   "metadata": {},
   "outputs": [],
   "source": []
  }
 ],
 "metadata": {
  "kernelspec": {
   "display_name": "Python 3",
   "language": "python",
   "name": "python3"
  },
  "language_info": {
   "codemirror_mode": {
    "name": "ipython",
    "version": 3
   },
   "file_extension": ".py",
   "mimetype": "text/x-python",
   "name": "python",
   "nbconvert_exporter": "python",
   "pygments_lexer": "ipython3",
   "version": "3.8.5"
  }
 },
 "nbformat": 4,
 "nbformat_minor": 4
}
