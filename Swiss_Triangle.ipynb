{
  "nbformat": 4,
  "nbformat_minor": 0,
  "metadata": {
    "colab": {
      "name": "Swiss Triangle.ipynb",
      "provenance": [],
      "collapsed_sections": [],
      "authorship_tag": "ABX9TyMjSfjsxiFMbSX3jonRYDMy",
      "include_colab_link": true
    },
    "kernelspec": {
      "name": "python3",
      "display_name": "Python 3"
    },
    "language_info": {
      "name": "python"
    }
  },
  "cells": [
    {
      "cell_type": "markdown",
      "metadata": {
        "id": "view-in-github",
        "colab_type": "text"
      },
      "source": [
        "<a href=\"https://colab.research.google.com/github/abiaggi/artificial-flavor-gpt2/blob/main/Swiss_Triangle.ipynb\" target=\"_parent\"><img src=\"https://colab.research.google.com/assets/colab-badge.svg\" alt=\"Open In Colab\"/></a>"
      ]
    },
    {
      "cell_type": "code",
      "metadata": {
        "colab": {
          "base_uri": "https://localhost:8080/"
        },
        "id": "hLh91hiuDpok",
        "outputId": "7a1882eb-e095-489b-e3e6-bead3cd8bd03"
      },
      "source": [
        "ROUNDS = 3\n",
        "PLAYERS = 8\n",
        "WIN_POINTS = 3;\n",
        "pairDownWin = False\n",
        "\n",
        "points = [0] * PLAYERS\n",
        "\n",
        "for r in range(ROUNDS):\n",
        "  for p in range(PLAYERS):\n",
        "    if ((not pairDownWin) & (p % 2 == 0)):\n",
        "      points[p] += WIN_POINTS\n",
        "    elif (pairDownWin & (p % 2 == 1)):\n",
        "      points[p] += WIN_POINTS\n",
        "  points.sort(reverse=True)\n",
        "  print('After Round ' + str(r+1))\n",
        "  print(points)\n",
        "\n",
        "print(\"Final Standings: \")\n",
        "for wins in reversed(range(ROUNDS + 1)):\n",
        "  standing_points = WIN_POINTS * (wins)\n",
        "  count = points.count(standing_points);\n",
        "  print(str(count) + ' players at ' + str(standing_points) + ' points')\n"
      ],
      "execution_count": 28,
      "outputs": [
        {
          "output_type": "stream",
          "text": [
            "After Round 1\n",
            "[3, 3, 3, 3, 0, 0, 0, 0]\n",
            "After Round 2\n",
            "[6, 6, 3, 3, 3, 3, 0, 0]\n",
            "After Round 3\n",
            "[9, 6, 6, 6, 3, 3, 3, 0]\n",
            "Final Standings: \n",
            "1 players at 9 points\n",
            "3 players at 6 points\n",
            "3 players at 3 points\n",
            "1 players at 0 points\n"
          ],
          "name": "stdout"
        }
      ]
    }
  ]
}